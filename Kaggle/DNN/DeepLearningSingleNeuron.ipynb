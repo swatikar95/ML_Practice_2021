{
 "cells": [
  {
   "cell_type": "code",
   "execution_count": 2,
   "id": "0555df8a",
   "metadata": {},
   "outputs": [],
   "source": [
    "from tensorflow import keras\n",
    "from tensorflow.keras import layers\n",
    "\n",
    "#create a network with 1 linear unit\n",
    "model = keras.Sequential([\n",
    "    layers.Dense(units=1,input_shape=[3])\n",
    "])"
   ]
  },
  {
   "cell_type": "markdown",
   "id": "b9fd530c",
   "metadata": {},
   "source": [
    "We could define a linear model accepting three input features ('sugars', 'fiber', and 'protein') and producing a single output ('calories')"
   ]
  },
  {
   "cell_type": "code",
   "execution_count": 3,
   "id": "3f651bbc",
   "metadata": {},
   "outputs": [
    {
     "name": "stdout",
     "output_type": "stream",
     "text": [
      "Weights\n",
      "<tf.Variable 'dense/kernel:0' shape=(3, 1) dtype=float32, numpy=\n",
      "array([[ 0.3868947 ],\n",
      "       [-0.47491664],\n",
      "       [ 0.53199255]], dtype=float32)>\n",
      "\n",
      "Bias\n",
      "<tf.Variable 'dense/bias:0' shape=(1,) dtype=float32, numpy=array([0.], dtype=float32)>\n"
     ]
    }
   ],
   "source": [
    "w, b = model.weights\n",
    "print(\"Weights\\n{}\\n\\nBias\\n{}\".format(w, b))"
   ]
  },
  {
   "cell_type": "code",
   "execution_count": null,
   "id": "0cff0c2e",
   "metadata": {},
   "outputs": [],
   "source": []
  }
 ],
 "metadata": {
  "kernelspec": {
   "display_name": "Python 3",
   "language": "python",
   "name": "python3"
  },
  "language_info": {
   "codemirror_mode": {
    "name": "ipython",
    "version": 3
   },
   "file_extension": ".py",
   "mimetype": "text/x-python",
   "name": "python",
   "nbconvert_exporter": "python",
   "pygments_lexer": "ipython3",
   "version": "3.7.10"
  }
 },
 "nbformat": 4,
 "nbformat_minor": 5
}
