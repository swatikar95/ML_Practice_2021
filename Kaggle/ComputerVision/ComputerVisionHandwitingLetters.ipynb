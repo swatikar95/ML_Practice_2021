{
 "cells": [
  {
   "cell_type": "code",
   "execution_count": 25,
   "id": "455037df",
   "metadata": {},
   "outputs": [],
   "source": [
    "# Python ≥3.5 is required\n",
    "import sys\n",
    "assert sys.version_info >= (3, 5)\n",
    "\n",
    "# Is this notebook running on Colab or Kaggle?\n",
    "IS_COLAB = \"google.colab\" in sys.modules\n",
    "IS_KAGGLE = \"kaggle_secrets\" in sys.modules\n",
    "\n",
    "# Scikit-Learn ≥0.20 is required\n",
    "import sklearn\n",
    "assert sklearn.__version__ >= \"0.20\"\n",
    "\n",
    "# TensorFlow ≥2.0 is required\n",
    "import tensorflow as tf\n",
    "from tensorflow import keras\n",
    "assert tf.__version__ >= \"2.0\"\n",
    "\n",
    "\n",
    "# Common imports\n",
    "import numpy as np\n",
    "import os\n",
    "\n",
    "# to make this notebook's output stable across runs\n",
    "np.random.seed(42)\n",
    "tf.random.set_seed(42)\n",
    "# To plot pretty figures\n",
    "%matplotlib inline\n",
    "import matplotlib as mpl\n",
    "import matplotlib.pyplot as plt\n",
    "mpl.rc('axes', labelsize=14)\n",
    "mpl.rc('xtick', labelsize=12)\n",
    "mpl.rc('ytick', labelsize=12)\n",
    "\n",
    "# Where to save the figures\n",
    "PROJECT_ROOT_DIR = \".\"\n",
    "CHAPTER_ID = \"cnn\"\n",
    "IMAGES_PATH = os.path.join(PROJECT_ROOT_DIR, \"images\", CHAPTER_ID)\n",
    "os.makedirs(IMAGES_PATH, exist_ok=True)\n",
    "\n",
    "def save_fig(fig_id, tight_layout=True, fig_extension=\"png\", resolution=300):\n",
    "    path = os.path.join(IMAGES_PATH, fig_id + \".\" + fig_extension)\n",
    "    print(\"Saving figure\", fig_id)\n",
    "    if tight_layout:\n",
    "        plt.tight_layout()\n",
    "    plt.savefig(path, format=fig_extension, dpi=resolution)"
   ]
  },
  {
   "cell_type": "code",
   "execution_count": 48,
   "id": "db02dd37",
   "metadata": {},
   "outputs": [],
   "source": [
    "dir_path = 'handwritten-leters'"
   ]
  },
  {
   "cell_type": "code",
   "execution_count": 49,
   "id": "300f1d7f",
   "metadata": {},
   "outputs": [],
   "source": [
    "data_info = ['letters.csv','letters2.csv','letters3.csv']"
   ]
  },
  {
   "cell_type": "code",
   "execution_count": 50,
   "id": "2f381b04",
   "metadata": {},
   "outputs": [],
   "source": [
    "def import_data(data_info):\n",
    "    data = pd.read_csv(dir_path + '/' + data_info)\n",
    "    data['source'] = data_info[:-4]+'/'\n",
    "    return data"
   ]
  },
  {
   "cell_type": "code",
   "execution_count": 51,
   "id": "247dfd48",
   "metadata": {},
   "outputs": [],
   "source": [
    "import pandas as pd\n",
    "letters = [import_data(file) for file in data_info]\n",
    "data = pd.concat(letters, ignore_index=True)"
   ]
  },
  {
   "cell_type": "code",
   "execution_count": 52,
   "id": "61c169f1",
   "metadata": {},
   "outputs": [
    {
     "data": {
      "text/html": [
       "<div>\n",
       "<style scoped>\n",
       "    .dataframe tbody tr th:only-of-type {\n",
       "        vertical-align: middle;\n",
       "    }\n",
       "\n",
       "    .dataframe tbody tr th {\n",
       "        vertical-align: top;\n",
       "    }\n",
       "\n",
       "    .dataframe thead th {\n",
       "        text-align: right;\n",
       "    }\n",
       "</style>\n",
       "<table border=\"1\" class=\"dataframe\">\n",
       "  <thead>\n",
       "    <tr style=\"text-align: right;\">\n",
       "      <th></th>\n",
       "      <th>letter</th>\n",
       "      <th>label</th>\n",
       "      <th>file</th>\n",
       "      <th>background</th>\n",
       "      <th>source</th>\n",
       "    </tr>\n",
       "  </thead>\n",
       "  <tbody>\n",
       "    <tr>\n",
       "      <th>0</th>\n",
       "      <td>а</td>\n",
       "      <td>1</td>\n",
       "      <td>01_01.png</td>\n",
       "      <td>0</td>\n",
       "      <td>letters/</td>\n",
       "    </tr>\n",
       "    <tr>\n",
       "      <th>1</th>\n",
       "      <td>а</td>\n",
       "      <td>1</td>\n",
       "      <td>01_02.png</td>\n",
       "      <td>0</td>\n",
       "      <td>letters/</td>\n",
       "    </tr>\n",
       "    <tr>\n",
       "      <th>2</th>\n",
       "      <td>а</td>\n",
       "      <td>1</td>\n",
       "      <td>01_03.png</td>\n",
       "      <td>0</td>\n",
       "      <td>letters/</td>\n",
       "    </tr>\n",
       "    <tr>\n",
       "      <th>3</th>\n",
       "      <td>а</td>\n",
       "      <td>1</td>\n",
       "      <td>01_04.png</td>\n",
       "      <td>0</td>\n",
       "      <td>letters/</td>\n",
       "    </tr>\n",
       "    <tr>\n",
       "      <th>4</th>\n",
       "      <td>а</td>\n",
       "      <td>1</td>\n",
       "      <td>01_05.png</td>\n",
       "      <td>0</td>\n",
       "      <td>letters/</td>\n",
       "    </tr>\n",
       "  </tbody>\n",
       "</table>\n",
       "</div>"
      ],
      "text/plain": [
       "  letter  label       file  background    source\n",
       "0      а      1  01_01.png           0  letters/\n",
       "1      а      1  01_02.png           0  letters/\n",
       "2      а      1  01_03.png           0  letters/\n",
       "3      а      1  01_04.png           0  letters/\n",
       "4      а      1  01_05.png           0  letters/"
      ]
     },
     "execution_count": 52,
     "metadata": {},
     "output_type": "execute_result"
    }
   ],
   "source": [
    "data.head()"
   ]
  },
  {
   "cell_type": "code",
   "execution_count": 53,
   "id": "c66e6503",
   "metadata": {},
   "outputs": [
    {
     "data": {
      "text/html": [
       "<div>\n",
       "<style scoped>\n",
       "    .dataframe tbody tr th:only-of-type {\n",
       "        vertical-align: middle;\n",
       "    }\n",
       "\n",
       "    .dataframe tbody tr th {\n",
       "        vertical-align: top;\n",
       "    }\n",
       "\n",
       "    .dataframe thead th {\n",
       "        text-align: right;\n",
       "    }\n",
       "</style>\n",
       "<table border=\"1\" class=\"dataframe\">\n",
       "  <thead>\n",
       "    <tr style=\"text-align: right;\">\n",
       "      <th></th>\n",
       "      <th>letter</th>\n",
       "      <th>label</th>\n",
       "      <th>file</th>\n",
       "      <th>background</th>\n",
       "      <th>source</th>\n",
       "    </tr>\n",
       "  </thead>\n",
       "  <tbody>\n",
       "    <tr>\n",
       "      <th>6491</th>\n",
       "      <td>щ</td>\n",
       "      <td>27</td>\n",
       "      <td>27_212.png</td>\n",
       "      <td>2</td>\n",
       "      <td>letters2/</td>\n",
       "    </tr>\n",
       "    <tr>\n",
       "      <th>2012</th>\n",
       "      <td>в</td>\n",
       "      <td>3</td>\n",
       "      <td>03_53.png</td>\n",
       "      <td>2</td>\n",
       "      <td>letters2/</td>\n",
       "    </tr>\n",
       "    <tr>\n",
       "      <th>13295</th>\n",
       "      <td>ы</td>\n",
       "      <td>29</td>\n",
       "      <td>29_336.png</td>\n",
       "      <td>3</td>\n",
       "      <td>letters3/</td>\n",
       "    </tr>\n",
       "    <tr>\n",
       "      <th>11270</th>\n",
       "      <td>с</td>\n",
       "      <td>19</td>\n",
       "      <td>19_311.png</td>\n",
       "      <td>3</td>\n",
       "      <td>letters3/</td>\n",
       "    </tr>\n",
       "    <tr>\n",
       "      <th>12837</th>\n",
       "      <td>щ</td>\n",
       "      <td>27</td>\n",
       "      <td>27_278.png</td>\n",
       "      <td>3</td>\n",
       "      <td>letters3/</td>\n",
       "    </tr>\n",
       "  </tbody>\n",
       "</table>\n",
       "</div>"
      ],
      "text/plain": [
       "      letter  label        file  background     source\n",
       "6491       щ     27  27_212.png           2  letters2/\n",
       "2012       в      3   03_53.png           2  letters2/\n",
       "13295      ы     29  29_336.png           3  letters3/\n",
       "11270      с     19  19_311.png           3  letters3/\n",
       "12837      щ     27  27_278.png           3  letters3/"
      ]
     },
     "execution_count": 53,
     "metadata": {},
     "output_type": "execute_result"
    }
   ],
   "source": [
    "from sklearn.utils import shuffle\n",
    "\n",
    "data = shuffle(data, random_state = 42)\n",
    "data.head()"
   ]
  },
  {
   "cell_type": "markdown",
   "id": "2b8e4243",
   "metadata": {},
   "source": [
    "# Target preprocessing"
   ]
  },
  {
   "cell_type": "code",
   "execution_count": 54,
   "id": "fcb4fb3b",
   "metadata": {},
   "outputs": [
    {
     "data": {
      "text/html": [
       "<div>\n",
       "<style scoped>\n",
       "    .dataframe tbody tr th:only-of-type {\n",
       "        vertical-align: middle;\n",
       "    }\n",
       "\n",
       "    .dataframe tbody tr th {\n",
       "        vertical-align: top;\n",
       "    }\n",
       "\n",
       "    .dataframe thead th {\n",
       "        text-align: right;\n",
       "    }\n",
       "</style>\n",
       "<table border=\"1\" class=\"dataframe\">\n",
       "  <thead>\n",
       "    <tr style=\"text-align: right;\">\n",
       "      <th></th>\n",
       "      <th>letter</th>\n",
       "      <th>label</th>\n",
       "      <th>file</th>\n",
       "      <th>background</th>\n",
       "      <th>source</th>\n",
       "      <th>enc_letter</th>\n",
       "      <th>enc_background</th>\n",
       "    </tr>\n",
       "  </thead>\n",
       "  <tbody>\n",
       "    <tr>\n",
       "      <th>6491</th>\n",
       "      <td>щ</td>\n",
       "      <td>27</td>\n",
       "      <td>27_212.png</td>\n",
       "      <td>2</td>\n",
       "      <td>letters2/</td>\n",
       "      <td>(0, 21)\\t1.0</td>\n",
       "      <td>(0, 2)\\t1.0</td>\n",
       "    </tr>\n",
       "    <tr>\n",
       "      <th>2012</th>\n",
       "      <td>в</td>\n",
       "      <td>3</td>\n",
       "      <td>03_53.png</td>\n",
       "      <td>2</td>\n",
       "      <td>letters2/</td>\n",
       "      <td>(0, 2)\\t1.0</td>\n",
       "      <td>(0, 3)\\t1.0</td>\n",
       "    </tr>\n",
       "    <tr>\n",
       "      <th>13295</th>\n",
       "      <td>ы</td>\n",
       "      <td>29</td>\n",
       "      <td>29_336.png</td>\n",
       "      <td>3</td>\n",
       "      <td>letters3/</td>\n",
       "      <td>(0, 32)\\t1.0</td>\n",
       "      <td>(0, 3)\\t1.0</td>\n",
       "    </tr>\n",
       "    <tr>\n",
       "      <th>11270</th>\n",
       "      <td>с</td>\n",
       "      <td>19</td>\n",
       "      <td>19_311.png</td>\n",
       "      <td>3</td>\n",
       "      <td>letters3/</td>\n",
       "      <td>(0, 19)\\t1.0</td>\n",
       "      <td>(0, 3)\\t1.0</td>\n",
       "    </tr>\n",
       "    <tr>\n",
       "      <th>12837</th>\n",
       "      <td>щ</td>\n",
       "      <td>27</td>\n",
       "      <td>27_278.png</td>\n",
       "      <td>3</td>\n",
       "      <td>letters3/</td>\n",
       "      <td>(0, 32)\\t1.0</td>\n",
       "      <td>(0, 1)\\t1.0</td>\n",
       "    </tr>\n",
       "  </tbody>\n",
       "</table>\n",
       "</div>"
      ],
      "text/plain": [
       "      letter  label        file  background     source      enc_letter  \\\n",
       "6491       щ     27  27_212.png           2  letters2/    (0, 21)\\t1.0   \n",
       "2012       в      3   03_53.png           2  letters2/     (0, 2)\\t1.0   \n",
       "13295      ы     29  29_336.png           3  letters3/    (0, 32)\\t1.0   \n",
       "11270      с     19  19_311.png           3  letters3/    (0, 19)\\t1.0   \n",
       "12837      щ     27  27_278.png           3  letters3/    (0, 32)\\t1.0   \n",
       "\n",
       "      enc_background  \n",
       "6491     (0, 2)\\t1.0  \n",
       "2012     (0, 3)\\t1.0  \n",
       "13295    (0, 3)\\t1.0  \n",
       "11270    (0, 3)\\t1.0  \n",
       "12837    (0, 1)\\t1.0  "
      ]
     },
     "execution_count": 54,
     "metadata": {},
     "output_type": "execute_result"
    }
   ],
   "source": [
    "from sklearn.preprocessing import OneHotEncoder\n",
    "\n",
    "one_hot_enc = OneHotEncoder()\n",
    "\n",
    "arr =  one_hot_enc.fit_transform(data[['letter']])\n",
    "data['enc_letter'] = pd.DataFrame(arr)\n",
    "arr1 =  one_hot_enc.fit_transform(data[['background']])\n",
    "data['enc_background'] = pd.DataFrame(arr1)\n",
    "data.head()"
   ]
  },
  {
   "cell_type": "code",
   "execution_count": 96,
   "id": "70be305b",
   "metadata": {},
   "outputs": [],
   "source": [
    "# Get all labels in one string\n",
    "letters = '' \n",
    "for letter in data.letter.unique():\n",
    "    letters += letter\n",
    "    print(letters)\n",
    "    \n",
    "# Which letter is written on each image\n",
    "labels = data.label\n",
    "# print(labels)\n",
    "def ohe_letter(label):\n",
    "    result = np.zeros(len(letters))\n",
    "    \n",
    "    index = letters.index(label)\n",
    "    result[index] = 1\n",
    "    return result\n",
    "\n",
    "def ohe_background(label):\n",
    "    result = np.zeros(len(data.background.unique()))\n",
    "    result[label] = 1\n",
    "    return result"
   ]
  },
  {
   "cell_type": "code",
   "execution_count": 97,
   "id": "917d418a",
   "metadata": {},
   "outputs": [
    {
     "data": {
      "text/html": [
       "<div>\n",
       "<style scoped>\n",
       "    .dataframe tbody tr th:only-of-type {\n",
       "        vertical-align: middle;\n",
       "    }\n",
       "\n",
       "    .dataframe tbody tr th {\n",
       "        vertical-align: top;\n",
       "    }\n",
       "\n",
       "    .dataframe thead th {\n",
       "        text-align: right;\n",
       "    }\n",
       "</style>\n",
       "<table border=\"1\" class=\"dataframe\">\n",
       "  <thead>\n",
       "    <tr style=\"text-align: right;\">\n",
       "      <th></th>\n",
       "      <th>letter</th>\n",
       "      <th>label</th>\n",
       "      <th>file</th>\n",
       "      <th>background</th>\n",
       "      <th>source</th>\n",
       "      <th>enc_letter</th>\n",
       "      <th>enc_background</th>\n",
       "    </tr>\n",
       "  </thead>\n",
       "  <tbody>\n",
       "    <tr>\n",
       "      <th>6491</th>\n",
       "      <td>щ</td>\n",
       "      <td>27</td>\n",
       "      <td>27_212.png</td>\n",
       "      <td>2</td>\n",
       "      <td>letters2/</td>\n",
       "      <td>[1.0, 0.0, 0.0, 0.0, 0.0, 0.0, 0.0, 0.0, 0.0, ...</td>\n",
       "      <td>[0.0, 0.0, 1.0, 0.0]</td>\n",
       "    </tr>\n",
       "    <tr>\n",
       "      <th>2012</th>\n",
       "      <td>в</td>\n",
       "      <td>3</td>\n",
       "      <td>03_53.png</td>\n",
       "      <td>2</td>\n",
       "      <td>letters2/</td>\n",
       "      <td>[0.0, 1.0, 0.0, 0.0, 0.0, 0.0, 0.0, 0.0, 0.0, ...</td>\n",
       "      <td>[0.0, 0.0, 1.0, 0.0]</td>\n",
       "    </tr>\n",
       "    <tr>\n",
       "      <th>13295</th>\n",
       "      <td>ы</td>\n",
       "      <td>29</td>\n",
       "      <td>29_336.png</td>\n",
       "      <td>3</td>\n",
       "      <td>letters3/</td>\n",
       "      <td>[0.0, 0.0, 1.0, 0.0, 0.0, 0.0, 0.0, 0.0, 0.0, ...</td>\n",
       "      <td>[0.0, 0.0, 0.0, 1.0]</td>\n",
       "    </tr>\n",
       "    <tr>\n",
       "      <th>11270</th>\n",
       "      <td>с</td>\n",
       "      <td>19</td>\n",
       "      <td>19_311.png</td>\n",
       "      <td>3</td>\n",
       "      <td>letters3/</td>\n",
       "      <td>[0.0, 0.0, 0.0, 1.0, 0.0, 0.0, 0.0, 0.0, 0.0, ...</td>\n",
       "      <td>[0.0, 0.0, 0.0, 1.0]</td>\n",
       "    </tr>\n",
       "    <tr>\n",
       "      <th>12837</th>\n",
       "      <td>щ</td>\n",
       "      <td>27</td>\n",
       "      <td>27_278.png</td>\n",
       "      <td>3</td>\n",
       "      <td>letters3/</td>\n",
       "      <td>[1.0, 0.0, 0.0, 0.0, 0.0, 0.0, 0.0, 0.0, 0.0, ...</td>\n",
       "      <td>[0.0, 0.0, 0.0, 1.0]</td>\n",
       "    </tr>\n",
       "  </tbody>\n",
       "</table>\n",
       "</div>"
      ],
      "text/plain": [
       "      letter  label        file  background     source  \\\n",
       "6491       щ     27  27_212.png           2  letters2/   \n",
       "2012       в      3   03_53.png           2  letters2/   \n",
       "13295      ы     29  29_336.png           3  letters3/   \n",
       "11270      с     19  19_311.png           3  letters3/   \n",
       "12837      щ     27  27_278.png           3  letters3/   \n",
       "\n",
       "                                              enc_letter        enc_background  \n",
       "6491   [1.0, 0.0, 0.0, 0.0, 0.0, 0.0, 0.0, 0.0, 0.0, ...  [0.0, 0.0, 1.0, 0.0]  \n",
       "2012   [0.0, 1.0, 0.0, 0.0, 0.0, 0.0, 0.0, 0.0, 0.0, ...  [0.0, 0.0, 1.0, 0.0]  \n",
       "13295  [0.0, 0.0, 1.0, 0.0, 0.0, 0.0, 0.0, 0.0, 0.0, ...  [0.0, 0.0, 0.0, 1.0]  \n",
       "11270  [0.0, 0.0, 0.0, 1.0, 0.0, 0.0, 0.0, 0.0, 0.0, ...  [0.0, 0.0, 0.0, 1.0]  \n",
       "12837  [1.0, 0.0, 0.0, 0.0, 0.0, 0.0, 0.0, 0.0, 0.0, ...  [0.0, 0.0, 0.0, 1.0]  "
      ]
     },
     "execution_count": 97,
     "metadata": {},
     "output_type": "execute_result"
    }
   ],
   "source": [
    "data['enc_letter'] = data['letter'].apply(ohe_letter)\n",
    "data['enc_background'] = data['background'].apply(ohe_background)\n",
    "data.head()\n"
   ]
  },
  {
   "cell_type": "markdown",
   "id": "613a03cb",
   "metadata": {},
   "source": [
    "# Image preprocesssing"
   ]
  },
  {
   "cell_type": "code",
   "execution_count": 57,
   "id": "b1e7ff2f",
   "metadata": {},
   "outputs": [
    {
     "data": {
      "text/plain": [
       "<matplotlib.image.AxesImage at 0x7fef27500250>"
      ]
     },
     "execution_count": 57,
     "metadata": {},
     "output_type": "execute_result"
    },
    {
     "data": {
      "image/png": "[encoded data removed]",
      "text/plain": [
       "<Figure size 432x288 with 1 Axes>"
      ]
     },
     "metadata": {
      "needs_background": "light"
     },
     "output_type": "display_data"
    }
   ],
   "source": [
    "import matplotlib.pyplot as plt\n",
    "from matplotlib.image import imread\n",
    "from tensorflow.keras.preprocessing import image\n",
    "\n",
    "img_width, img_height = 32,32\n",
    "input_shape = (img_width,img_height,3)\n",
    "\n",
    "# image_file_name = dir_path + '/'+'letters2/23_89.png'\n",
    "image_file_name = dir_path +'/'+ 'letters2/27_212.png'\n",
    "img = image.load_img(image_file_name,target_size=(img_width, img_height))\n",
    "plt.imshow(img)"
   ]
  },
  {
   "cell_type": "code",
   "execution_count": 98,
   "id": "5e2b668d",
   "metadata": {},
   "outputs": [],
   "source": [
    "# Store all png images into one numpy array\n",
    "images = []\n",
    "\n",
    "# Will be the target\n",
    "encoded_labels = []\n",
    "\n",
    "backgrounds = []\n",
    "encoded_backgrounds = []\n",
    "\n",
    "# Want to be sure that every image is consitent\n",
    "for i, row in data.iterrows():\n",
    "    img_name = row['file']\n",
    "    #converting image\n",
    "    numpy_image = cv2.imread(os.path.join(dir_path +'/'+ row['source'],img_name))\n",
    "#     print(numpy_image)\n",
    "    if numpy_image.shape == (32, 32, 3):\n",
    "        images.append(numpy_image)\n",
    "        encoded_labels.append(row['enc_letter'])\n",
    "        backgrounds.append(row['background'])\n",
    "        encoded_backgrounds.append(row['enc_background'])\n",
    "        \n",
    "# Normalize array of images\n",
    "images = np.array(images)/255"
   ]
  },
  {
   "cell_type": "code",
   "execution_count": 99,
   "id": "719f9b25",
   "metadata": {},
   "outputs": [
    {
     "data": {
      "text/plain": [
       "(14178, 14178)"
      ]
     },
     "execution_count": 99,
     "metadata": {},
     "output_type": "execute_result"
    }
   ],
   "source": [
    "len(images), len(encoded_labels)"
   ]
  },
  {
   "cell_type": "code",
   "execution_count": 100,
   "id": "bf6d4eb8",
   "metadata": {},
   "outputs": [],
   "source": [
    "\n",
    "X = np.array(images.copy())\n",
    "y = np.array(encoded_labels.copy())\n"
   ]
  },
  {
   "cell_type": "code",
   "execution_count": 101,
   "id": "79ae13aa",
   "metadata": {},
   "outputs": [
    {
     "name": "stdout",
     "output_type": "stream",
     "text": [
      "(11342, 32, 32, 3)\n",
      "(2836, 32, 32, 3)\n",
      "(11342, 33)\n",
      "(2836, 33)\n"
     ]
    }
   ],
   "source": [
    "from sklearn.model_selection import train_test_split\n",
    "# from keras.utils import to_categorical\n",
    "\n",
    "X_train, X_val, y_train, y_val = train_test_split(X,y,test_size=0.2,\n",
    "                                                 random_state=42)\n",
    "print(X_train.shape)\n",
    "print(X_val.shape)\n",
    "print(y_train.shape)\n",
    "print(y_val.shape)\n",
    "\n",
    "# y_binary = keras.utils.to_categorical(y_train)"
   ]
  },
  {
   "cell_type": "markdown",
   "id": "98338e48",
   "metadata": {},
   "source": [
    "# Data Augmentation"
   ]
  },
  {
   "cell_type": "code",
   "execution_count": 102,
   "id": "238a3853",
   "metadata": {},
   "outputs": [],
   "source": [
    "from tensorflow.keras.preprocessing.image import ImageDataGenerator\n",
    "\n",
    "data_aug = ImageDataGenerator(rotation_range=20,\n",
    "                              width_shift_range=0.10,\n",
    "                              height_shift_range=0.10,\n",
    "                              rescale=1/255,\n",
    "                              shear_range=0.1,\n",
    "                              zoom_range=0.1,\n",
    "                              horizontal_flip=True,\n",
    "                              fill_mode='nearest')\n",
    "\n",
    "data_aug.fit(X_train)"
   ]
  },
  {
   "cell_type": "markdown",
   "id": "7832daab",
   "metadata": {},
   "source": [
    "# Configuring of CNN"
   ]
  },
  {
   "cell_type": "code",
   "execution_count": 103,
   "id": "95fadc08",
   "metadata": {},
   "outputs": [
    {
     "name": "stdout",
     "output_type": "stream",
     "text": [
      "33\n"
     ]
    }
   ],
   "source": [
    "input_shape = (img_width,img_height,3)\n",
    "\n",
    "letters = ''\n",
    "for letter in data.letter.unique():\n",
    "    letters += letter\n",
    "num_classes = len(letters)\n",
    "print(num_classes)\n",
    "#group of training samples\n",
    "batch_size=64\n",
    "\n",
    "epochs = 20"
   ]
  },
  {
   "cell_type": "code",
   "execution_count": 104,
   "id": "7c14616d",
   "metadata": {},
   "outputs": [],
   "source": [
    "model = keras.models.Sequential([\n",
    "    keras.layers.Conv2D(32,kernel_size=(3,3),\n",
    "                activation='relu',\n",
    "                input_shape=input_shape),\n",
    "    keras.layers.Conv2D(64,kernel_size=(3,3),activation='relu'),\n",
    "    keras.layers.Conv2D(128,kernel_size=(3,3),activation='relu'),\n",
    "    keras.layers.MaxPooling2D(pool_size=(2,2)),\n",
    "    keras.layers.Dropout(0.20),\n",
    "    keras.layers.Flatten(),\n",
    "    keras.layers.Dense(128,activation='relu'),\n",
    "    keras.layers.Dropout(0.20),\n",
    "    keras.layers.Dense(num_classes,activation='softmax')\n",
    "])"
   ]
  },
  {
   "cell_type": "code",
   "execution_count": 105,
   "id": "336de39e",
   "metadata": {},
   "outputs": [
    {
     "name": "stdout",
     "output_type": "stream",
     "text": [
      "Model: \"sequential_4\"\n",
      "_________________________________________________________________\n",
      "Layer (type)                 Output Shape              Param #   \n",
      "=================================================================\n",
      "conv2d_12 (Conv2D)           (None, 30, 30, 32)        896       \n",
      "_________________________________________________________________\n",
      "conv2d_13 (Conv2D)           (None, 28, 28, 64)        18496     \n",
      "_________________________________________________________________\n",
      "conv2d_14 (Conv2D)           (None, 26, 26, 128)       73856     \n",
      "_________________________________________________________________\n",
      "max_pooling2d_4 (MaxPooling2 (None, 13, 13, 128)       0         \n",
      "_________________________________________________________________\n",
      "dropout_8 (Dropout)          (None, 13, 13, 128)       0         \n",
      "_________________________________________________________________\n",
      "flatten_4 (Flatten)          (None, 21632)             0         \n",
      "_________________________________________________________________\n",
      "dense_8 (Dense)              (None, 128)               2769024   \n",
      "_________________________________________________________________\n",
      "dropout_9 (Dropout)          (None, 128)               0         \n",
      "_________________________________________________________________\n",
      "dense_9 (Dense)              (None, 33)                4257      \n",
      "=================================================================\n",
      "Total params: 2,866,529\n",
      "Trainable params: 2,866,529\n",
      "Non-trainable params: 0\n",
      "_________________________________________________________________\n"
     ]
    }
   ],
   "source": [
    "model.compile(loss='categorical_crossentropy',\n",
    "              optimizer='adam',\n",
    "              metrics=['accuracy'])\n",
    "model.summary()"
   ]
  },
  {
   "cell_type": "code",
   "execution_count": 106,
   "id": "931e3892",
   "metadata": {},
   "outputs": [
    {
     "name": "stdout",
     "output_type": "stream",
     "text": [
      "Train on 11342 samples, validate on 2836 samples\n",
      "Epoch 1/20\n",
      "11342/11342 [==============================] - 152s 13ms/sample - loss: 3.4038 - accuracy: 0.0585 - val_loss: 2.9391 - val_accuracy: 0.1961\n",
      "Epoch 2/20\n",
      "11342/11342 [==============================] - 744s 66ms/sample - loss: 2.5967 - accuracy: 0.2664 - val_loss: 2.1609 - val_accuracy: 0.4055\n",
      "Epoch 3/20\n",
      "11342/11342 [==============================] - 197s 17ms/sample - loss: 2.1102 - accuracy: 0.3978 - val_loss: 1.8179 - val_accuracy: 0.4926\n",
      "Epoch 4/20\n",
      "11342/11342 [==============================] - 1628s 144ms/sample - loss: 1.7371 - accuracy: 0.4989 - val_loss: 1.5336 - val_accuracy: 0.5606\n",
      "Epoch 5/20\n",
      "11342/11342 [==============================] - 149s 13ms/sample - loss: 1.4360 - accuracy: 0.5821 - val_loss: 1.2295 - val_accuracy: 0.6548\n",
      "Epoch 6/20\n",
      "11342/11342 [==============================] - 162s 14ms/sample - loss: 1.2346 - accuracy: 0.6362 - val_loss: 1.1205 - val_accuracy: 0.6756\n",
      "Epoch 7/20\n",
      "11342/11342 [==============================] - 169s 15ms/sample - loss: 1.0858 - accuracy: 0.6743 - val_loss: 0.9777 - val_accuracy: 0.7260\n",
      "Epoch 8/20\n",
      "11342/11342 [==============================] - 166s 15ms/sample - loss: 1.0074 - accuracy: 0.6946 - val_loss: 1.0667 - val_accuracy: 0.6795\n",
      "Epoch 9/20\n",
      "11342/11342 [==============================] - 172s 15ms/sample - loss: 0.9064 - accuracy: 0.7208 - val_loss: 0.9408 - val_accuracy: 0.7204\n",
      "Epoch 10/20\n",
      "11342/11342 [==============================] - 171s 15ms/sample - loss: 0.8346 - accuracy: 0.7394 - val_loss: 0.9044 - val_accuracy: 0.7320\n",
      "Epoch 11/20\n",
      "11342/11342 [==============================] - 171s 15ms/sample - loss: 0.7655 - accuracy: 0.7599 - val_loss: 0.8050 - val_accuracy: 0.7616\n",
      "Epoch 12/20\n",
      "11342/11342 [==============================] - 173s 15ms/sample - loss: 0.7091 - accuracy: 0.7787 - val_loss: 0.7653 - val_accuracy: 0.7659\n",
      "Epoch 13/20\n",
      "11342/11342 [==============================] - 199s 18ms/sample - loss: 0.6421 - accuracy: 0.7977 - val_loss: 0.7738 - val_accuracy: 0.7747\n",
      "Epoch 14/20\n",
      "11342/11342 [==============================] - 199s 18ms/sample - loss: 0.6133 - accuracy: 0.8071 - val_loss: 0.6983 - val_accuracy: 0.7969\n",
      "Epoch 15/20\n",
      "11342/11342 [==============================] - 179s 16ms/sample - loss: 0.5564 - accuracy: 0.8195 - val_loss: 0.7242 - val_accuracy: 0.7898\n",
      "Epoch 16/20\n",
      "11342/11342 [==============================] - 197s 17ms/sample - loss: 0.5119 - accuracy: 0.8301 - val_loss: 0.7273 - val_accuracy: 0.7983\n",
      "Epoch 17/20\n",
      "11342/11342 [==============================] - 1179s 104ms/sample - loss: 0.4796 - accuracy: 0.8431 - val_loss: 0.6868 - val_accuracy: 0.8029\n",
      "Epoch 18/20\n",
      "11342/11342 [==============================] - 28400s 3s/sample - loss: 0.4532 - accuracy: 0.8534 - val_loss: 0.7244 - val_accuracy: 0.7923\n",
      "Epoch 19/20\n",
      "11342/11342 [==============================] - 30297s 3s/sample - loss: 0.4353 - accuracy: 0.8592 - val_loss: 0.8007 - val_accuracy: 0.7687\n",
      "Epoch 20/20\n",
      "11342/11342 [==============================] - 1919s 169ms/sample - loss: 0.4013 - accuracy: 0.8653 - val_loss: 0.7188 - val_accuracy: 0.7997\n"
     ]
    }
   ],
   "source": [
    "history = model.fit(X_train, y_train,\n",
    "          batch_size = batch_size,\n",
    "          epochs=epochs,\n",
    "          verbose = 1,\n",
    "          validation_data = (X_val,y_val))"
   ]
  },
  {
   "cell_type": "code",
   "execution_count": 107,
   "id": "59c8c5f2",
   "metadata": {},
   "outputs": [
    {
     "name": "stdout",
     "output_type": "stream",
     "text": [
      "[0.0584553, 0.2664433, 0.39781344, 0.49885383, 0.5820843, 0.6362194, 0.6743079, 0.6945865, 0.7207723, 0.73937577, 0.75991887, 0.7786986, 0.79765475, 0.8070887, 0.81952035, 0.83010054, 0.8430612, 0.8533768, 0.8591959, 0.8652795]\n"
     ]
    },
    {
     "data": {
      "image/png": "[encoded data removed]",
      "text/plain": [
       "<Figure size 432x288 with 1 Axes>"
      ]
     },
     "metadata": {
      "needs_background": "light"
     },
     "output_type": "display_data"
    }
   ],
   "source": [
    "print(history.history['accuracy'])\n",
    "\n",
    "plt.plot(history.history['accuracy'],'--',label='accuracy on training set')\n",
    "plt.plot(history.history['val_accuracy'],label='accuracy on validation set')\n",
    "plt.xlabel('epoch')\n",
    "plt.ylabel('accuracy')\n",
    "plt.legend()\n",
    "plt.show()"
   ]
  },
  {
   "cell_type": "code",
   "execution_count": 109,
   "id": "8435e49d",
   "metadata": {},
   "outputs": [
    {
     "data": {
      "image/png": "[encoded data removed]",
      "text/plain": [
       "<Figure size 432x288 with 1 Axes>"
      ]
     },
     "metadata": {
      "needs_background": "light"
     },
     "output_type": "display_data"
    }
   ],
   "source": [
    "plt.plot(history.history['loss'])\n",
    "plt.plot(history.history['val_loss'])\n",
    "plt.title('model loss')\n",
    "plt.xlabel('epoch')\n",
    "plt.ylabel('loss')\n",
    "plt.legend(['train','test'],loc='upper left')\n",
    "plt.show()"
   ]
  },
  {
   "cell_type": "code",
   "execution_count": null,
   "id": "78df5df7",
   "metadata": {},
   "outputs": [],
   "source": []
  }
 ],
 "metadata": {
  "kernelspec": {
   "display_name": "Python 3",
   "language": "python",
   "name": "python3"
  },
  "language_info": {
   "codemirror_mode": {
    "name": "ipython",
    "version": 3
   },
   "file_extension": ".py",
   "mimetype": "text/x-python",
   "name": "python",
   "nbconvert_exporter": "python",
   "pygments_lexer": "ipython3",
   "version": "3.7.10"
  }
 },
 "nbformat": 4,
 "nbformat_minor": 5
}
